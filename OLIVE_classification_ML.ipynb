{
  "cells": [
    {
      "cell_type": "code",
      "execution_count": 22,
      "metadata": {
        "id": "FHfAZxgYhlXP"
      },
      "outputs": [],
      "source": [
        "import pandas as pd\n",
        "import numpy as np\n",
        "import matplotlib.pyplot as plt\n",
        "import seaborn as sns\n",
        "\n",
        "from sklearn.model_selection import train_test_split\n",
        "from sklearn.tree import DecisionTreeClassifier\n",
        "from sklearn.ensemble import RandomForestClassifier\n",
        "from sklearn.svm import SVC\n",
        "from sklearn.pipeline import Pipeline\n",
        "from sklearn.preprocessing import StandardScaler\n",
        "from sklearn.metrics import accuracy_score, confusion_matrix, classification_report\n",
        "\n",
        "\n",
        "from imblearn.over_sampling import SMOTE\n",
        "\n"
      ]
    },
    {
      "cell_type": "code",
      "execution_count": 25,
      "metadata": {
        "colab": {
          "base_uri": "https://localhost:8080/"
        },
        "id": "HYPdbrtchu-a",
        "outputId": "628826f8-2922-421c-b1ce-1f6a04b49b78"
      },
      "outputs": [
        {
          "name": "stdout",
          "output_type": "stream",
          "text": [
            "Total samples: 572\n",
            "Unique classes in 'Region': ['extra virgin olive oil' 'organic extra virgin olive oil']\n",
            "         palmitic  palmitoleic     stearic       oleic     linoleic  \\\n",
            "count  572.000000   572.000000  572.000000  572.000000   572.000000   \n",
            "mean     4.599650  1231.741259  126.094406  228.865385  7311.748252   \n",
            "std      2.356687   168.592264   52.494365   36.744935   405.810222   \n",
            "min      1.000000   610.000000   15.000000  152.000000  6300.000000   \n",
            "50%      3.000000  1201.000000  110.000000  223.000000  7302.500000   \n",
            "max      9.000000  1753.000000  280.000000  375.000000  8410.000000   \n",
            "\n",
            "         linolenic   arachidic  eicosenoic  \n",
            "count   572.000000  572.000000  572.000000  \n",
            "mean    980.527972   31.888112   58.097902  \n",
            "std     242.799221   12.968697   22.030250  \n",
            "min     448.000000    0.000000    0.000000  \n",
            "50%    1030.000000   33.000000   61.000000  \n",
            "max    1470.000000   74.000000  105.000000  \n"
          ]
        }
      ],
      "source": [
        "#------------------------\n",
        "# 1. DATA PREPROCESSING\n",
        "# -------------------------\n",
        "\n",
        "# Remap the 'Region' labels to two classes:\n",
        "#   - 'organic extra virgin olive oil' for Calabria, Sicily\n",
        "#   - 'extra virgin olive oil' for all other specified regions\n",
        "#\n",
        "\n",
        "olive_data = pd.read_csv(\"olive.csv\")\n",
        "\n",
        "olive_data.loc[olive_data['Region'] == 'North-Apulia', 'Region'] = 'extra virgin olive oil'\n",
        "olive_data.loc[olive_data['Region'] == 'South-Apulia', 'Region'] = 'extra virgin olive oil'\n",
        "olive_data.loc[olive_data['Region'] == 'Calabria', 'Region'] = 'organic extra virgin olive oil'\n",
        "olive_data.loc[olive_data['Region'] == 'Sicily', 'Region'] = 'organic extra virgin olive oil'\n",
        "olive_data.loc[olive_data['Region'] == 'Inland-Sardinia', 'Region'] = 'extra virgin olive oil'\n",
        "olive_data.loc[olive_data['Region'] == 'Coast-Sardinia', 'Region'] = 'extra virgin olive oil'\n",
        "olive_data.loc[olive_data['Region'] == 'Umbria', 'Region'] = 'extra virgin olive oil'\n",
        "olive_data.loc[olive_data['Region'] == 'East-Liguria', 'Region'] = 'extra virgin olive oil'\n",
        "olive_data.loc[olive_data['Region'] == 'West-Liguria', 'Region'] = 'extra virgin olive oil'\n",
        "\n",
        "print(\"Total samples:\", len(olive_data))\n",
        "print(\"Unique classes in 'Region':\", olive_data['Region'].unique())\n",
        "\n",
        "# Drop irrelevant columns\n",
        "olive_data = olive_data.drop(['id', 'other', 'Area'], axis=1)\n",
        "\n",
        "\n",
        "# Describe\n",
        "print(olive_data.describe(()))\n"
      ]
    },
    {
      "cell_type": "code",
      "execution_count": 27,
      "metadata": {
        "id": "cAKo9ZxLh6CI"
      },
      "outputs": [
        {
          "name": "stdout",
          "output_type": "stream",
          "text": [
            "     palmitic  palmitoleic  stearic  oleic  linoleic  linolenic  arachidic  \\\n",
            "0           1         1075       75    226      7823        672         36   \n",
            "1           1         1088       73    224      7709        781         31   \n",
            "2           1          911       54    246      8113        549         31   \n",
            "3           1          966       57    240      7952        619         50   \n",
            "4           1         1051       67    259      7771        672         50   \n",
            "..        ...          ...      ...    ...       ...        ...        ...   \n",
            "567         8         1280      110    290      7490        790         10   \n",
            "568         8         1060      100    270      7740        810         10   \n",
            "569         8         1010       90    210      7720        970          0   \n",
            "570         8          990      120    250      7750        870         10   \n",
            "571         8          960       80    240      7950        740         10   \n",
            "\n",
            "     eicosenoic  \n",
            "0            60  \n",
            "1            61  \n",
            "2            63  \n",
            "3            78  \n",
            "4            80  \n",
            "..          ...  \n",
            "567          10  \n",
            "568          10  \n",
            "569           0  \n",
            "570          10  \n",
            "571          20  \n",
            "\n",
            "[572 rows x 8 columns]\n"
          ]
        }
      ],
      "source": [
        "\n",
        "# -------------------------\n",
        "# 2. DATA SPLITTING\n",
        "# -------------------------\n",
        "# Define features (X) and target (y)\n",
        "X = olive_data.drop('Region', axis=1)\n",
        "y = olive_data['Region']\n",
        "\n",
        "# Split into training (80%) and testing (20%) sets, using stratification to preserve class proportions\n",
        "X_train, X_test, y_train, y_test = train_test_split(\n",
        "    X, y, test_size=0.2, random_state=42, stratify=y\n",
        ")\n",
        "print(X)\n",
        "\n",
        "\n"
      ]
    },
    {
      "cell_type": "code",
      "execution_count": 32,
      "metadata": {},
      "outputs": [],
      "source": [
        "\n",
        "# -------------------------\n",
        "# 3. APPLY SMOTE TO THE TRAINING SET\n",
        "# -------------------------\n",
        "# Use SMOTE and apply it to the training data only.\n",
        "smote = SMOTE(random_state=42)\n",
        "X_train_sm, y_train_sm = smote.fit_resample(X_train, y_train)\n"
      ]
    },
    {
      "cell_type": "code",
      "execution_count": 33,
      "metadata": {
        "colab": {
          "base_uri": "https://localhost:8080/",
          "height": 655
        },
        "id": "zILf5QYzmqXy",
        "outputId": "aaa699b0-abeb-4a20-b14e-06e27ca2ad64"
      },
      "outputs": [
        {
          "name": "stderr",
          "output_type": "stream",
          "text": [
            "/var/folders/g9/8p_qmzf15dj1chjxryshlpp40000gn/T/ipykernel_23808/4174368729.py:8: FutureWarning: \n",
            "\n",
            "Passing `palette` without assigning `hue` is deprecated and will be removed in v0.14.0. Assign the `x` variable to `hue` and set `legend=False` for the same effect.\n",
            "\n",
            "  sns.countplot(x=y_train, palette=\"viridis\")\n",
            "/var/folders/g9/8p_qmzf15dj1chjxryshlpp40000gn/T/ipykernel_23808/4174368729.py:15: FutureWarning: \n",
            "\n",
            "Passing `palette` without assigning `hue` is deprecated and will be removed in v0.14.0. Assign the `x` variable to `hue` and set `legend=False` for the same effect.\n",
            "\n",
            "  sns.countplot(x=y_train_sm, palette=\"viridis\")\n"
          ]
        },
        {
          "data": {
            "image/png": "[encoded data removed]",
            "text/plain": [
              "<Figure size 1200x500 with 2 Axes>"
            ]
          },
          "metadata": {},
          "output_type": "display_data"
        }
      ],
      "source": [
        "\n",
        "# -------------------------\n",
        "# 4. VISUALIZE CLASS DISTRIBUTION BEFORE AND AFTER SMOTE\n",
        "# -------------------------\n",
        "plt.figure(figsize=(12, 5))\n",
        "\n",
        "# Plot the original training set distribution\n",
        "plt.subplot(1, 2, 1)\n",
        "sns.countplot(x=y_train, palette=\"viridis\")\n",
        "plt.title(\"Before SMOTE\")\n",
        "plt.xlabel(\"Region\")\n",
        "plt.ylabel(\"Count\")\n",
        "\n",
        "# Plot the distribution after applying SMOTE\n",
        "plt.subplot(1, 2, 2)\n",
        "sns.countplot(x=y_train_sm, palette=\"viridis\")\n",
        "plt.title(\"After SMOTE\")\n",
        "plt.xlabel(\"Region\")\n",
        "plt.ylabel(\"Count\")\n",
        "\n",
        "plt.tight_layout()\n",
        "plt.show()"
      ]
    },
    {
      "cell_type": "code",
      "execution_count": 34,
      "metadata": {
        "colab": {
          "base_uri": "https://localhost:8080/"
        },
        "id": "GjE-c2SjiPVy",
        "outputId": "8b9640a0-830b-4676-cbaf-be38ed74a59a"
      },
      "outputs": [
        {
          "name": "stdout",
          "output_type": "stream",
          "text": [
            "\n",
            "--- Decision Tree ---\n",
            "Accuracy: 0.9652173913043478\n",
            "                                precision    recall  f1-score   support\n",
            "\n",
            "        extra virgin olive oil       0.98      0.98      0.98        97\n",
            "organic extra virgin olive oil       0.89      0.89      0.89        18\n",
            "\n",
            "                      accuracy                           0.97       115\n",
            "                     macro avg       0.93      0.93      0.93       115\n",
            "                  weighted avg       0.97      0.97      0.97       115\n",
            "\n",
            "\n",
            "--- Random Forest ---\n",
            "Accuracy: 0.9739130434782609\n",
            "                                precision    recall  f1-score   support\n",
            "\n",
            "        extra virgin olive oil       0.97      1.00      0.98        97\n",
            "organic extra virgin olive oil       1.00      0.83      0.91        18\n",
            "\n",
            "                      accuracy                           0.97       115\n",
            "                     macro avg       0.98      0.92      0.95       115\n",
            "                  weighted avg       0.97      0.97      0.97       115\n",
            "\n",
            "\n",
            "--- SVC ---\n",
            "Accuracy: 0.991304347826087\n",
            "                                precision    recall  f1-score   support\n",
            "\n",
            "        extra virgin olive oil       0.99      1.00      0.99        97\n",
            "organic extra virgin olive oil       1.00      0.94      0.97        18\n",
            "\n",
            "                      accuracy                           0.99       115\n",
            "                     macro avg       0.99      0.97      0.98       115\n",
            "                  weighted avg       0.99      0.99      0.99       115\n",
            "\n"
          ]
        }
      ],
      "source": [
        "\n",
        "# -------------------------\n",
        "# 5. MODEL TRAINING\n",
        "# -------------------------\n",
        "\n",
        "# 5.1 Decision Tree Classifier (does not require feature scaling)\n",
        "dt_clf = DecisionTreeClassifier(random_state=42)\n",
        "dt_clf.fit(X_train_sm, y_train_sm)\n",
        "dt_pred = dt_clf.predict(X_test)\n",
        "dt_acc = accuracy_score(y_test, dt_pred)\n",
        "print(\"\\n--- Decision Tree ---\")\n",
        "print(\"Accuracy:\", dt_acc)\n",
        "print(classification_report(y_test, dt_pred))\n",
        "\n",
        "# 5.2 Random Forest Classifier (does not require feature scaling)\n",
        "rf_clf = RandomForestClassifier(n_estimators=100, random_state=42)\n",
        "rf_clf.fit(X_train_sm, y_train_sm)\n",
        "rf_pred = rf_clf.predict(X_test)\n",
        "rf_acc = accuracy_score(y_test, rf_pred)\n",
        "print(\"\\n--- Random Forest ---\")\n",
        "print(\"Accuracy:\", rf_acc)\n",
        "print(classification_report(y_test, rf_pred))\n",
        "\n",
        "# 5.3 Support Vector Classifier (SVC) with feature scaling using a pipeline\n",
        "svc_pipeline = Pipeline([\n",
        "    ('scaler', StandardScaler()),\n",
        "    ('svc', SVC(probability=True, random_state=42))\n",
        "])\n",
        "svc_pipeline.fit(X_train_sm, y_train_sm)\n",
        "svc_pred = svc_pipeline.predict(X_test)\n",
        "svc_acc = accuracy_score(y_test, svc_pred)\n",
        "print(\"\\n--- SVC ---\")\n",
        "print(\"Accuracy:\", svc_acc)\n",
        "print(classification_report(y_test, svc_pred))\n"
      ]
    },
    {
      "cell_type": "code",
      "execution_count": null,
      "metadata": {
        "colab": {
          "base_uri": "https://localhost:8080/",
          "height": 564
        },
        "id": "b-8gGcUKnYSa",
        "outputId": "081b5859-33aa-4401-da69-c94fe012cae4"
      },
      "outputs": [
        {
          "data": {
            "image/png": "[encoded data removed]",
            "text/plain": [
              "<Figure size 800x600 with 1 Axes>"
            ]
          },
          "metadata": {},
          "output_type": "display_data"
        }
      ],
      "source": [
        "\n",
        "# -------------------------\n",
        "# 6. VISUALIZATION OF MODEL PERFORMANCE\n",
        "# -------------------------\n",
        "# Prepare a bar plot comparing the accuracies of the three models\n",
        "model_results = {\n",
        "    'Decision Tree': dt_acc,\n",
        "    'Random Forest': rf_acc,\n",
        "    'SVC': svc_acc\n",
        "}\n",
        "\n",
        "plt.figure(figsize=(8, 6))\n",
        "models = list(model_results.keys())\n",
        "accuracies = [model_results[model] for model in models]\n",
        "bar_colors = ['#4daf4a', '#377eb8', '#ff7f00']\n",
        "\n",
        "bars = plt.bar(models, accuracies, color=bar_colors)\n",
        "plt.xlabel('Model')\n",
        "plt.ylabel('Accuracy')\n",
        "plt.title('Model Accuracies After SMOTE')\n",
        "plt.ylim(0, 1)\n",
        "\n",
        "# Annotate bars with accuracy values\n",
        "for bar in bars:\n",
        "    height = bar.get_height()\n",
        "    plt.annotate(f'{height:.2f}',\n",
        "                 xy=(bar.get_x() + bar.get_width() / 2, height),\n",
        "                 xytext=(0, 3),  # 3 points vertical offset\n",
        "                 textcoords=\"offset points\",\n",
        "                 ha='center', va='bottom')\n",
        "plt.show()\n",
        "\n",
        "\n"
      ]
    },
    {
      "cell_type": "code",
      "execution_count": 35,
      "metadata": {
        "colab": {
          "base_uri": "https://localhost:8080/",
          "height": 487
        },
        "id": "39SZ0hYqnc2w",
        "outputId": "83c40140-dfe9-47bd-fcd7-89e3fa741031"
      },
      "outputs": [
        {
          "name": "stdout",
          "output_type": "stream",
          "text": [
            "[[95  2]\n",
            " [ 2 16]]\n"
          ]
        },
        {
          "data": {
            "image/png": "[encoded data removed]",
            "text/plain": [
              "<Figure size 600x500 with 2 Axes>"
            ]
          },
          "metadata": {},
          "output_type": "display_data"
        }
      ],
      "source": [
        "# plot confusion matrices for each model.\n",
        "plt.figure(figsize=(6, 5))\n",
        "cm_dt = confusion_matrix(y_test, dt_pred)\n",
        "\n",
        "print(cm_dt)\n",
        "\n",
        "sns.heatmap(cm_dt, annot=True, fmt='d', cmap='Blues')\n",
        "plt.title(\"Decision Tree Confusion Matrix\")\n",
        "plt.xlabel(\"Predicted\")\n",
        "plt.ylabel(\"Actual\")\n",
        "plt.show()"
      ]
    },
    {
      "cell_type": "code",
      "execution_count": null,
      "metadata": {},
      "outputs": [],
      "source": []
    },
    {
      "cell_type": "code",
      "execution_count": null,
      "metadata": {},
      "outputs": [],
      "source": []
    }
  ],
  "metadata": {
    "colab": {
      "provenance": []
    },
    "kernelspec": {
      "display_name": "Python 3",
      "name": "python3"
    },
    "language_info": {
      "codemirror_mode": {
        "name": "ipython",
        "version": 3
      },
      "file_extension": ".py",
      "mimetype": "text/x-python",
      "name": "python",
      "nbconvert_exporter": "python",
      "pygments_lexer": "ipython3",
      "version": "3.10.15"
    }
  },
  "nbformat": 4,
  "nbformat_minor": 0
}
